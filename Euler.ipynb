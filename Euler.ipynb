{
 "cells": [
  {
   "cell_type": "code",
   "execution_count": 21,
   "metadata": {
    "collapsed": false
   },
   "outputs": [],
   "source": [
    "from pylab import*\n",
    "%matplotlib inline"
   ]
  },
  {
   "cell_type": "code",
   "execution_count": 6,
   "metadata": {
    "collapsed": false
   },
   "outputs": [
    {
     "name": "stdout",
     "output_type": "stream",
     "text": [
      "[ 0.   0.1  0.2  0.3  0.4  0.5  0.6  0.7  0.8  0.9  1. ] [ 0.  0.  0.  0.  0.  0.  0.  0.  0.  0.  0.]\n",
      "11 11\n"
     ]
    }
   ],
   "source": [
    "tiempos = arange(0,1.1,0.1)\n",
    "x = zeros(len(tiempos))\n",
    "print tiempos,x\n",
    "print len(tiempos),len(x)"
   ]
  },
  {
   "cell_type": "code",
   "execution_count": 49,
   "metadata": {
    "collapsed": true
   },
   "outputs": [],
   "source": [
    "def euler(funcion,p_ini,t_final,h=0.01):\n",
    "    tiempos = arange(p_ini[0],t_final+h,h)\n",
    "    for t in tiempos:\n",
    "        y = [0]*len(tiempos)  #zeros(len(tiempos))\n",
    "        y[0] = p_ini[1]\n",
    "        for i in range(len(tiempos)-1):\n",
    "            y[i+1] = y[i] + funcion(y[i],tiempos[i])*h\n",
    "            solucion = [tiempos,y]\n",
    "        \n",
    "    return solucion"
   ]
  },
  {
   "cell_type": "markdown",
   "metadata": {},
   "source": [
    "Ecuacion diferencial a resolver $f´(x)=f(x)$"
   ]
  },
  {
   "cell_type": "code",
   "execution_count": 10,
   "metadata": {
    "collapsed": true
   },
   "outputs": [],
   "source": [
    "def mi_ec_diff(y,f):\n",
    "    return y"
   ]
  },
  {
   "cell_type": "code",
   "execution_count": 22,
   "metadata": {
    "collapsed": false
   },
   "outputs": [
    {
     "data": {
      "image/png": "[encoded data removed]",
      "text/plain": [
       "<matplotlib.figure.Figure at 0x7f8291ccdf50>"
      ]
     },
     "metadata": {},
     "output_type": "display_data"
    }
   ],
   "source": [
    "sol = euler(mi_ec_diff,[0,1],3)\n",
    "plot(sol[0],sol[1],sol[0],exp(sol[0]))\n",
    "show()"
   ]
  },
  {
   "cell_type": "markdown",
   "metadata": {},
   "source": [
    "Ecuacion diferencial a resolver $f´(x)=-xf(x)$"
   ]
  },
  {
   "cell_type": "code",
   "execution_count": 23,
   "metadata": {
    "collapsed": true
   },
   "outputs": [],
   "source": [
    "def otra_func(y,t):\n",
    "    return -y*t"
   ]
  },
  {
   "cell_type": "code",
   "execution_count": 38,
   "metadata": {
    "collapsed": false
   },
   "outputs": [
    {
     "data": {
      "image/png": "[encoded data removed]",
      "text/plain": [
       "<matplotlib.figure.Figure at 0x7f828a281d90>"
      ]
     },
     "metadata": {},
     "output_type": "display_data"
    }
   ],
   "source": [
    "sol = euler(otra_func,[0,1],3)\n",
    "plot(sol[0],sol[1])\n",
    "show()"
   ]
  },
  {
   "cell_type": "code",
   "execution_count": 35,
   "metadata": {
    "collapsed": false
   },
   "outputs": [],
   "source": [
    "def Era(f,x):\n",
    "    return(1./sin(x)+2)*(((2.*f)/sqrt(3))**2-1)"
   ]
  },
  {
   "cell_type": "code",
   "execution_count": 44,
   "metadata": {
    "collapsed": false
   },
   "outputs": [
    {
     "name": "stderr",
     "output_type": "stream",
     "text": [
      "/home/est5/anaconda2/lib/python2.7/site-packages/ipykernel/__main__.py:2: RuntimeWarning: overflow encountered in double_scalars\n",
      "  from ipykernel import kernelapp as app\n"
     ]
    },
    {
     "data": {
      "image/png": "[encoded data removed]",
      "text/plain": [
       "<matplotlib.figure.Figure at 0x7f828a31cf50>"
      ]
     },
     "metadata": {},
     "output_type": "display_data"
    }
   ],
   "source": [
    "hs = (0.5,0.1,0.001)\n",
    "for h in hs:\n",
    "    sol = euler (Era,[1,1],3.)\n",
    "    plot(sol[0],sol[1])\n",
    "show()"
   ]
  },
  {
   "cell_type": "code",
   "execution_count": 45,
   "metadata": {
    "collapsed": false
   },
   "outputs": [
    {
     "name": "stdout",
     "output_type": "stream",
     "text": [
      "[array([4, 5]), array([1, 7]), array([4, 5]), array([1, 7])]\n"
     ]
    }
   ],
   "source": [
    "a = [array([4,5]),array([1,7])]\n",
    "print 2*a"
   ]
  },
  {
   "cell_type": "code",
   "execution_count": 47,
   "metadata": {
    "collapsed": true
   },
   "outputs": [],
   "source": [
    "def segundo_orden(y,t):\n",
    "    return array([y[1],-y[0]])"
   ]
  },
  {
   "cell_type": "code",
   "execution_count": 53,
   "metadata": {
    "collapsed": false
   },
   "outputs": [],
   "source": [
    "sol = euler(segundo_orden,[1,array([0,1])],3,h)\n",
    "#print sol[1]\n",
    "#plot(sol[0],sol[1])\n",
    "#show()"
   ]
  }
 ],
 "metadata": {
  "kernelspec": {
   "display_name": "Python [Root]",
   "language": "python",
   "name": "Python [Root]"
  },
  "language_info": {
   "codemirror_mode": {
    "name": "ipython",
    "version": 2
   },
   "file_extension": ".py",
   "mimetype": "text/x-python",
   "name": "python",
   "nbconvert_exporter": "python",
   "pygments_lexer": "ipython2",
   "version": "2.7.12"
  }
 },
 "nbformat": 4,
 "nbformat_minor": 0
}
